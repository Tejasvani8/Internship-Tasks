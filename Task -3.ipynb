{
 "cells": [
  {
   "cell_type": "markdown",
   "metadata": {},
   "source": [
    "# TASK-3\n",
    "\n",
    "#####  AIRSS1237\n",
    "\n",
    "##### Tejasvani\n",
    "\n",
    "Subject: Functions in Python\n",
    "    \n",
    "### Explanation of the Task:\n",
    "\n",
    "- Use the keyword def to declare the function and follow this up with the function name.\n",
    "- Add parameters to the function.\n",
    "- Add statements that the functions should execute.\n",
    "- End function with a return statement,without the return statement,function will return an object None."
   ]
  },
  {
   "cell_type": "markdown",
   "metadata": {},
   "source": [
    "# **Question 1**\n",
    "\n",
    "- Write a function to return nth term of Fibonacci sequence."
   ]
  },
  {
   "cell_type": "code",
   "execution_count": 4,
   "metadata": {},
   "outputs": [
    {
     "name": "stdout",
     "output_type": "stream",
     "text": [
      "Enter the value of n: 7\n",
      "7th Fibonacci number is  8\n"
     ]
    }
   ],
   "source": [
    "def fibnum(n):\n",
    "    if n<=0:\n",
    "        print(\"Fibonacci can't be computed\")\n",
    "    elif n==1:\n",
    "        return 0\n",
    "    elif n==2:\n",
    "        return 1\n",
    "    else:\n",
    "        return fibnum(n-1)+fibnum(n-2)\n",
    "\n",
    "\n",
    "n=int(input(\"Enter the value of n: \"))\n",
    "print(\"{}th Fibonacci number is \".format(n),fibnum(n))"
   ]
  },
  {
   "cell_type": "markdown",
   "metadata": {},
   "source": [
    "# **Question 2**\n",
    "\n",
    "- Write a function to find out GCD of two numbers using EUCLID'S algorithm."
   ]
  },
  {
   "cell_type": "code",
   "execution_count": 5,
   "metadata": {},
   "outputs": [
    {
     "name": "stdout",
     "output_type": "stream",
     "text": [
      "4\n"
     ]
    }
   ],
   "source": [
    "# Euclid algorithm :  gcd(m, n) == gcd(n, m % n)\n",
    "\n",
    "def gcd(m,n):\n",
    "    if m< n: \n",
    "        (m,n) = (n,m)\n",
    "    if(m%n) == 0:\n",
    "        return n \n",
    "    else:\n",
    "        return (gcd(n, m % n))\n",
    "    \n",
    "print(gcd(12,20))\n"
   ]
  },
  {
   "cell_type": "markdown",
   "metadata": {},
   "source": [
    "# **Question 3**\n",
    "\n",
    "- Write a function to find LCM of two number in most optimizers way."
   ]
  },
  {
   "cell_type": "code",
   "execution_count": 9,
   "metadata": {},
   "outputs": [
    {
     "name": "stdout",
     "output_type": "stream",
     "text": [
      "Enter num_1 = 7\n",
      "Enter num_2 = 9\n",
      "Lcm of  7 and 9 is : 63\n"
     ]
    }
   ],
   "source": [
    "def lcm(num1,num2):\n",
    "    return (num1//gcd(num1,num2))*num2\n",
    "num1=int(input(\"Enter num_1 = \"))\n",
    "num2=int(input(\"Enter num_2 = \"))\n",
    "print('Lcm of ',num1,\"and\",num2,'is :',lcm(num1,num2))"
   ]
  },
  {
   "cell_type": "code",
   "execution_count": null,
   "metadata": {},
   "outputs": [],
   "source": []
  }
 ],
 "metadata": {
  "kernelspec": {
   "display_name": "Python 3",
   "language": "python",
   "name": "python3"
  },
  "language_info": {
   "codemirror_mode": {
    "name": "ipython",
    "version": 3
   },
   "file_extension": ".py",
   "mimetype": "text/x-python",
   "name": "python",
   "nbconvert_exporter": "python",
   "pygments_lexer": "ipython3",
   "version": "3.8.3"
  }
 },
 "nbformat": 4,
 "nbformat_minor": 4
}
