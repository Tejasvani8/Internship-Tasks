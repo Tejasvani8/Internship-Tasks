{
 "cells": [
  {
   "cell_type": "markdown",
   "metadata": {},
   "source": [
    "# TASK-2\n",
    "\n",
    "#####  AIRSS1237\n",
    "\n",
    "##### Tejasvani\n",
    "\n",
    "Subject: lambda functions \n",
    "    \n",
    "### Explanation of the Task:\n",
    "\n",
    "- Solving various questions based on strings using lambda function. \n",
    "- Writing own functions."
   ]
  },
  {
   "cell_type": "markdown",
   "metadata": {},
   "source": [
    "# **Question 1**\n",
    "\n",
    "- Write a lambda expression to extract first word of a string."
   ]
  },
  {
   "cell_type": "code",
   "execution_count": 4,
   "metadata": {},
   "outputs": [
    {
     "name": "stdout",
     "output_type": "stream",
     "text": [
      "you\n"
     ]
    }
   ],
   "source": [
    "l = (lambda string: string.split()[0])\n",
    "print(l('you are enough just as you are !'))"
   ]
  },
  {
   "cell_type": "markdown",
   "metadata": {},
   "source": [
    "# **Question 2**\n",
    "\n",
    "- Write a function to extract first word of s string (with many words separated by space)."
   ]
  },
  {
   "cell_type": "code",
   "execution_count": 8,
   "metadata": {},
   "outputs": [
    {
     "name": "stdout",
     "output_type": "stream",
     "text": [
      "Enter a string: Everything negative – pressure, challenges – is all an opportunity for me to rise.\n",
      "Everything\n"
     ]
    }
   ],
   "source": [
    "def extract(string):\n",
    "    return string.split()[0]\n",
    "\n",
    "string = input(\"Enter a string: \")\n",
    "\n",
    "print(extract(string))"
   ]
  },
  {
   "cell_type": "markdown",
   "metadata": {},
   "source": [
    "# **Question 3**\n",
    "\n",
    "- Extract the first word from every string from a list of strings by using map function."
   ]
  },
  {
   "cell_type": "code",
   "execution_count": 10,
   "metadata": {},
   "outputs": [
    {
     "data": {
      "text/plain": [
       "['Live', 'life', 'Love']"
      ]
     },
     "execution_count": 10,
     "metadata": {},
     "output_type": "execute_result"
    }
   ],
   "source": [
    "list_string = ['Live for each second without hesitation','life is like a box of chocolates','Love all, trust a few, do wrong to none']\n",
    "list(map(extract, list_string))"
   ]
  },
  {
   "cell_type": "markdown",
   "metadata": {},
   "source": [
    "# **Question 4**\n",
    "\n",
    "- Write a function to return a list of prime factors of a given number."
   ]
  },
  {
   "cell_type": "code",
   "execution_count": 29,
   "metadata": {},
   "outputs": [],
   "source": [
    "import math\n",
    "def primefactors(n):\n",
    "   \n",
    "     while n % 2 == 0:\n",
    "        print (2),\n",
    "        n = n / 2\n",
    "    \n",
    "   \n",
    "     for i in range(3,int(math.sqrt(n))+1,2):\n",
    "     \n",
    "         while (n % i == 0):\n",
    "            print (i)\n",
    "            n = n / i\n",
    "    \n",
    "     if n > 2:\n",
    "        print (n)"
   ]
  },
  {
   "cell_type": "code",
   "execution_count": 34,
   "metadata": {},
   "outputs": [
    {
     "name": "stdout",
     "output_type": "stream",
     "text": [
      "Enter the number for calculating the prime factors :\n",
      "45\n",
      "3\n",
      "3\n",
      "5\n"
     ]
    }
   ],
   "source": [
    "n = int(input(\"Enter the number for calculating the prime factors :\\n\"))\n",
    "primefactors(n)"
   ]
  },
  {
   "cell_type": "markdown",
   "metadata": {},
   "source": [
    "# **Question 5**\n",
    "\n",
    "- Write a function that finds 2nd largest among 4 numbers (Repetitions are allowed,without sorting)."
   ]
  },
  {
   "cell_type": "code",
   "execution_count": 37,
   "metadata": {},
   "outputs": [
    {
     "name": "stdout",
     "output_type": "stream",
     "text": [
      "Enter 4 numbers: 10\n",
      "Enter 4 numbers: 40\n",
      "Enter 4 numbers: 50\n",
      "Enter 4 numbers: 20\n",
      "[10, 40, 50, 20]\n"
     ]
    },
    {
     "data": {
      "text/plain": [
       "40"
      ]
     },
     "execution_count": 37,
     "metadata": {},
     "output_type": "execute_result"
    }
   ],
   "source": [
    "numbers= []\n",
    "\n",
    "for i in range(4):\n",
    "    num = int(input(\"Enter 4 numbers: \"))\n",
    "    numbers.append(num)\n",
    "print(numbers)\n",
    "\n",
    "\n",
    "def second_largest() :\n",
    "    max_num = max(numbers) \n",
    "    return max(numbers, key = lambda x : min(numbers)-1 if (x == max_num) else x)\n",
    "\n",
    "second_largest()"
   ]
  },
  {
   "cell_type": "code",
   "execution_count": null,
   "metadata": {},
   "outputs": [],
   "source": []
  }
 ],
 "metadata": {
  "kernelspec": {
   "display_name": "Python 3",
   "language": "python",
   "name": "python3"
  },
  "language_info": {
   "codemirror_mode": {
    "name": "ipython",
    "version": 3
   },
   "file_extension": ".py",
   "mimetype": "text/x-python",
   "name": "python",
   "nbconvert_exporter": "python",
   "pygments_lexer": "ipython3",
   "version": "3.8.3"
  }
 },
 "nbformat": 4,
 "nbformat_minor": 4
}
