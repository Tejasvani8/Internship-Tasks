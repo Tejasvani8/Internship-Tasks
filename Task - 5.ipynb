{
 "cells": [
  {
   "cell_type": "markdown",
   "metadata": {},
   "source": [
    "# TASK-5\n",
    "\n",
    "#####  AIRSS1237\n",
    "\n",
    "##### Tejasvani\n",
    "\n",
    "Subject: Functions\n",
    "    \n",
    "### Explanation of the Task:\n",
    "\n",
    "\n",
    "- Use the keyword def to declare the function and follow this up with the function name.\n",
    "- Add parameters to the function.\n",
    "- Add statements that the functions should execute.\n",
    "- End function with a return statement,without the return statement,function will return an object None."
   ]
  },
  {
   "cell_type": "markdown",
   "metadata": {},
   "source": [
    "# **Question 1**\n",
    "\n",
    "- Given a list of integers, write a function to return the sum of all prime numbers in that\n",
    "list."
   ]
  },
  {
   "cell_type": "code",
   "execution_count": 3,
   "metadata": {},
   "outputs": [
    {
     "name": "stdout",
     "output_type": "stream",
     "text": [
      "2 6 7 9 4 5 11 13\n",
      "38\n"
     ]
    }
   ],
   "source": [
    "integers=input(\"\").split(' ')\n",
    "sum_primes=0\n",
    "for n in integers:\n",
    "    n=int(n)\n",
    "    isPrime=True\n",
    "    if n > 1:\n",
    "    \n",
    "        for i in range(2, n):\n",
    "            if (n % i) == 0:\n",
    "                isPrime=False\n",
    "                break\n",
    "        if isPrime:\n",
    "            sum_primes+=n\n",
    "\n",
    "\n",
    "print(str(sum_primes))"
   ]
  },
  {
   "cell_type": "markdown",
   "metadata": {},
   "source": [
    "# **Question 2**\n",
    "\n",
    "- Given a list of integers, write a function to check whether the list is strictly increasing or\n",
    "not."
   ]
  },
  {
   "cell_type": "code",
   "execution_count": 7,
   "metadata": {},
   "outputs": [
    {
     "name": "stdout",
     "output_type": "stream",
     "text": [
      "Original list : [1, 2, 6, 7, 9, 4, 5, 11, 13]\n",
      "check if the list is  strictly increasing  : True\n"
     ]
    }
   ],
   "source": [
    "integers = [1 ,2 ,6, 7, 9 ,4 ,5 ,11, 13]\n",
    "\n",
    "print (\"Original list : \" + str(integers))\n",
    "\n",
    "inc = bool(lambda integers: reduce(lambda i, j: j \n",
    "                if\n",
    "                i < j else 9999, test_list) != 9999)\n",
    "\n",
    "\n",
    "print (\"check if the list is  strictly increasing  : \" + str(inc))"
   ]
  },
  {
   "cell_type": "markdown",
   "metadata": {},
   "source": [
    "# **Question 3**\n",
    "\n",
    "- Write a function to check whether a given list is expanding or not (the difference\n",
    "between adjacent elements should keep on increasing)."
   ]
  },
  {
   "cell_type": "code",
   "execution_count": 6,
   "metadata": {},
   "outputs": [
    {
     "name": "stdout",
     "output_type": "stream",
     "text": [
      "original_list [  5   9  95 200 450 750]\n",
      "expanding list:  [  4  86 105 250 300]\n"
     ]
    }
   ],
   "source": [
    "import numpy as np\n",
    "lst= np.array([5, 9, 95, 200, 450, 750])\n",
    "print(\"original_list\", str(lst))\n",
    "exp_list = np.diff(lst)\n",
    "print (\"expanding list: \", str(exp_list))"
   ]
  },
  {
   "cell_type": "markdown",
   "metadata": {},
   "source": [
    "# **Question 4**\n",
    "\n",
    "- Write a function to calculate all permutations of a given string. (Without using itertools)"
   ]
  },
  {
   "cell_type": "code",
   "execution_count": 8,
   "metadata": {},
   "outputs": [],
   "source": [
    "def permutations(s):\n",
    "    base = len(s)\n",
    "    for n in range(base**base):\n",
    "        yield \"\".join(s[n // base**(base-d-1) % base] for d in range(base))"
   ]
  },
  {
   "cell_type": "code",
   "execution_count": 10,
   "metadata": {},
   "outputs": [
    {
     "name": "stdout",
     "output_type": "stream",
     "text": [
      "ooo\n",
      "oon\n",
      "ooe\n",
      "ono\n",
      "onn\n",
      "one\n",
      "oeo\n",
      "oen\n",
      "oee\n",
      "noo\n",
      "non\n",
      "noe\n",
      "nno\n",
      "nnn\n",
      "nne\n",
      "neo\n",
      "nen\n",
      "nee\n",
      "eoo\n",
      "eon\n",
      "eoe\n",
      "eno\n",
      "enn\n",
      "ene\n",
      "eeo\n",
      "een\n",
      "eee\n"
     ]
    }
   ],
   "source": [
    "for r in permutations(\"one\"):\n",
    "    print(r)"
   ]
  }
 ],
 "metadata": {
  "kernelspec": {
   "display_name": "Python 3",
   "language": "python",
   "name": "python3"
  },
  "language_info": {
   "codemirror_mode": {
    "name": "ipython",
    "version": 3
   },
   "file_extension": ".py",
   "mimetype": "text/x-python",
   "name": "python",
   "nbconvert_exporter": "python",
   "pygments_lexer": "ipython3",
   "version": "3.8.3"
  }
 },
 "nbformat": 4,
 "nbformat_minor": 4
}
