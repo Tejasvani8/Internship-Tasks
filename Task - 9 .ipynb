{
 "cells": [
  {
   "cell_type": "markdown",
   "metadata": {
    "id": "8g--2NEmAakS"
   },
   "source": [
    "# **Leaf Classification**\n",
    "\n",
    "\n",
    "There are estimated to be nearly half a million species of plant in the world. Classification of species has been historically problematic and often results in duplicate identifications.\n",
    "\n",
    "The objective of this project is to use binary leaf images & extracted features, including shape, margin & texture, to accurately identify 99 species of plants. Leaves, due to their volume, prevalence, and unique characteristics, are an effective means of differentiating plant species. "
   ]
  },
  {
   "cell_type": "markdown",
   "metadata": {
    "id": "ByUbOxIUCMEV"
   },
   "source": [
    "## Import the required libraries"
   ]
  },
  {
   "cell_type": "code",
   "execution_count": 10,
   "metadata": {
    "colab": {
     "base_uri": "https://localhost:8080/"
    },
    "id": "iwcx0ilv1NKc",
    "outputId": "97437b40-544b-4646-f1aa-166249c82ac8"
   },
   "outputs": [
    {
     "name": "stdout",
     "output_type": "stream",
     "text": [
      "Populating the interactive namespace from numpy and matplotlib\n"
     ]
    }
   ],
   "source": [
    "%pylab inline\n",
    "import numpy as np\n",
    "import pandas as pd\n",
    "import seaborn as sns\n",
    "import matplotlib.pyplot as plt\n",
    "\n",
    "\n",
    "## Importing sklearn libraries\n",
    "\n",
    "from sklearn.preprocessing import StandardScaler\n",
    "from sklearn.model_selection import train_test_split\n",
    "from sklearn.preprocessing import LabelEncoder\n",
    "\n",
    "\n",
    "## Keras Libraries for Neural Networks\n",
    "\n",
    "from keras.models import Sequential\n",
    "from keras.layers import Dense,Dropout,Activation\n",
    "from keras.utils.np_utils import to_categorical\n"
   ]
  },
  {
   "cell_type": "markdown",
   "metadata": {
    "id": "51syULDOCaUl"
   },
   "source": [
    " ## Loading the dataset"
   ]
  },
  {
   "cell_type": "code",
   "execution_count": 12,
   "metadata": {
    "id": "7Xx2IQfR2QPY"
   },
   "outputs": [],
   "source": [
    "data = pd.read_csv('/content/train.csv.zip')\n",
    "\n",
    "copied = data.copy()    ## copy of original data\n",
    "ID = data.pop('id')\n"
   ]
  },
  {
   "cell_type": "code",
   "execution_count": 14,
   "metadata": {
    "colab": {
     "base_uri": "https://localhost:8080/"
    },
    "id": "jn0z24tO1P2E",
    "outputId": "dbd51dff-b155-4ffc-b8f7-1bffa0813c88"
   },
   "outputs": [
    {
     "data": {
      "text/plain": [
       "(990, 193)"
      ]
     },
     "execution_count": 14,
     "metadata": {},
     "output_type": "execute_result"
    }
   ],
   "source": [
    "data.shape"
   ]
  },
  {
   "cell_type": "code",
   "execution_count": 15,
   "metadata": {
    "colab": {
     "base_uri": "https://localhost:8080/",
     "height": 256
    },
    "id": "pdok9Fo41P8Y",
    "outputId": "2bd83a9c-b62c-4f6f-ab90-79f62aaf4869"
   },
   "outputs": [
    {
     "data": {
      "text/html": [
       "<div>\n",
       "<style scoped>\n",
       "    .dataframe tbody tr th:only-of-type {\n",
       "        vertical-align: middle;\n",
       "    }\n",
       "\n",
       "    .dataframe tbody tr th {\n",
       "        vertical-align: top;\n",
       "    }\n",
       "\n",
       "    .dataframe thead th {\n",
       "        text-align: right;\n",
       "    }\n",
       "</style>\n",
       "<table border=\"1\" class=\"dataframe\">\n",
       "  <thead>\n",
       "    <tr style=\"text-align: right;\">\n",
       "      <th></th>\n",
       "      <th>species</th>\n",
       "      <th>margin1</th>\n",
       "      <th>margin2</th>\n",
       "      <th>margin3</th>\n",
       "      <th>margin4</th>\n",
       "      <th>margin5</th>\n",
       "      <th>margin6</th>\n",
       "      <th>margin7</th>\n",
       "      <th>margin8</th>\n",
       "      <th>margin9</th>\n",
       "      <th>margin10</th>\n",
       "      <th>margin11</th>\n",
       "      <th>margin12</th>\n",
       "      <th>margin13</th>\n",
       "      <th>margin14</th>\n",
       "      <th>margin15</th>\n",
       "      <th>margin16</th>\n",
       "      <th>margin17</th>\n",
       "      <th>margin18</th>\n",
       "      <th>margin19</th>\n",
       "      <th>margin20</th>\n",
       "      <th>margin21</th>\n",
       "      <th>margin22</th>\n",
       "      <th>margin23</th>\n",
       "      <th>margin24</th>\n",
       "      <th>margin25</th>\n",
       "      <th>margin26</th>\n",
       "      <th>margin27</th>\n",
       "      <th>margin28</th>\n",
       "      <th>margin29</th>\n",
       "      <th>margin30</th>\n",
       "      <th>margin31</th>\n",
       "      <th>margin32</th>\n",
       "      <th>margin33</th>\n",
       "      <th>margin34</th>\n",
       "      <th>margin35</th>\n",
       "      <th>margin36</th>\n",
       "      <th>margin37</th>\n",
       "      <th>margin38</th>\n",
       "      <th>margin39</th>\n",
       "      <th>...</th>\n",
       "      <th>texture25</th>\n",
       "      <th>texture26</th>\n",
       "      <th>texture27</th>\n",
       "      <th>texture28</th>\n",
       "      <th>texture29</th>\n",
       "      <th>texture30</th>\n",
       "      <th>texture31</th>\n",
       "      <th>texture32</th>\n",
       "      <th>texture33</th>\n",
       "      <th>texture34</th>\n",
       "      <th>texture35</th>\n",
       "      <th>texture36</th>\n",
       "      <th>texture37</th>\n",
       "      <th>texture38</th>\n",
       "      <th>texture39</th>\n",
       "      <th>texture40</th>\n",
       "      <th>texture41</th>\n",
       "      <th>texture42</th>\n",
       "      <th>texture43</th>\n",
       "      <th>texture44</th>\n",
       "      <th>texture45</th>\n",
       "      <th>texture46</th>\n",
       "      <th>texture47</th>\n",
       "      <th>texture48</th>\n",
       "      <th>texture49</th>\n",
       "      <th>texture50</th>\n",
       "      <th>texture51</th>\n",
       "      <th>texture52</th>\n",
       "      <th>texture53</th>\n",
       "      <th>texture54</th>\n",
       "      <th>texture55</th>\n",
       "      <th>texture56</th>\n",
       "      <th>texture57</th>\n",
       "      <th>texture58</th>\n",
       "      <th>texture59</th>\n",
       "      <th>texture60</th>\n",
       "      <th>texture61</th>\n",
       "      <th>texture62</th>\n",
       "      <th>texture63</th>\n",
       "      <th>texture64</th>\n",
       "    </tr>\n",
       "  </thead>\n",
       "  <tbody>\n",
       "    <tr>\n",
       "      <th>0</th>\n",
       "      <td>Acer_Opalus</td>\n",
       "      <td>0.007812</td>\n",
       "      <td>0.023438</td>\n",
       "      <td>0.023438</td>\n",
       "      <td>0.003906</td>\n",
       "      <td>0.011719</td>\n",
       "      <td>0.009766</td>\n",
       "      <td>0.027344</td>\n",
       "      <td>0.0</td>\n",
       "      <td>0.001953</td>\n",
       "      <td>0.033203</td>\n",
       "      <td>0.013672</td>\n",
       "      <td>0.019531</td>\n",
       "      <td>0.066406</td>\n",
       "      <td>0.000000</td>\n",
       "      <td>0.029297</td>\n",
       "      <td>0.0</td>\n",
       "      <td>0.031250</td>\n",
       "      <td>0.011719</td>\n",
       "      <td>0.000000</td>\n",
       "      <td>0.025391</td>\n",
       "      <td>0.023438</td>\n",
       "      <td>0.001953</td>\n",
       "      <td>0.0</td>\n",
       "      <td>0.015625</td>\n",
       "      <td>0.000000</td>\n",
       "      <td>0.031250</td>\n",
       "      <td>0.000000</td>\n",
       "      <td>0.013672</td>\n",
       "      <td>0.029297</td>\n",
       "      <td>0.015625</td>\n",
       "      <td>0.011719</td>\n",
       "      <td>0.003906</td>\n",
       "      <td>0.025391</td>\n",
       "      <td>0.000000</td>\n",
       "      <td>0.001953</td>\n",
       "      <td>0.011719</td>\n",
       "      <td>0.009766</td>\n",
       "      <td>0.041016</td>\n",
       "      <td>0.037109</td>\n",
       "      <td>...</td>\n",
       "      <td>0.008789</td>\n",
       "      <td>0.015625</td>\n",
       "      <td>0.044922</td>\n",
       "      <td>0.000000</td>\n",
       "      <td>0.037109</td>\n",
       "      <td>0.012695</td>\n",
       "      <td>0.028320</td>\n",
       "      <td>0.000000</td>\n",
       "      <td>0.019531</td>\n",
       "      <td>0.026367</td>\n",
       "      <td>0.005859</td>\n",
       "      <td>0.0</td>\n",
       "      <td>0.004883</td>\n",
       "      <td>0.016602</td>\n",
       "      <td>0.034180</td>\n",
       "      <td>0.056641</td>\n",
       "      <td>0.006836</td>\n",
       "      <td>0.000977</td>\n",
       "      <td>0.022461</td>\n",
       "      <td>0.037109</td>\n",
       "      <td>0.004883</td>\n",
       "      <td>0.021484</td>\n",
       "      <td>0.035156</td>\n",
       "      <td>0.000977</td>\n",
       "      <td>0.004883</td>\n",
       "      <td>0.015625</td>\n",
       "      <td>0.000000</td>\n",
       "      <td>0.0</td>\n",
       "      <td>0.006836</td>\n",
       "      <td>0.037109</td>\n",
       "      <td>0.007812</td>\n",
       "      <td>0.000000</td>\n",
       "      <td>0.002930</td>\n",
       "      <td>0.002930</td>\n",
       "      <td>0.035156</td>\n",
       "      <td>0.0</td>\n",
       "      <td>0.0</td>\n",
       "      <td>0.004883</td>\n",
       "      <td>0.000000</td>\n",
       "      <td>0.025391</td>\n",
       "    </tr>\n",
       "    <tr>\n",
       "      <th>1</th>\n",
       "      <td>Pterocarya_Stenoptera</td>\n",
       "      <td>0.005859</td>\n",
       "      <td>0.000000</td>\n",
       "      <td>0.031250</td>\n",
       "      <td>0.015625</td>\n",
       "      <td>0.025391</td>\n",
       "      <td>0.001953</td>\n",
       "      <td>0.019531</td>\n",
       "      <td>0.0</td>\n",
       "      <td>0.000000</td>\n",
       "      <td>0.007812</td>\n",
       "      <td>0.003906</td>\n",
       "      <td>0.027344</td>\n",
       "      <td>0.023438</td>\n",
       "      <td>0.000000</td>\n",
       "      <td>0.033203</td>\n",
       "      <td>0.0</td>\n",
       "      <td>0.009766</td>\n",
       "      <td>0.009766</td>\n",
       "      <td>0.007812</td>\n",
       "      <td>0.007812</td>\n",
       "      <td>0.019531</td>\n",
       "      <td>0.007812</td>\n",
       "      <td>0.0</td>\n",
       "      <td>0.000000</td>\n",
       "      <td>0.007812</td>\n",
       "      <td>0.027344</td>\n",
       "      <td>0.003906</td>\n",
       "      <td>0.037109</td>\n",
       "      <td>0.007812</td>\n",
       "      <td>0.048828</td>\n",
       "      <td>0.054688</td>\n",
       "      <td>0.027344</td>\n",
       "      <td>0.003906</td>\n",
       "      <td>0.000000</td>\n",
       "      <td>0.000000</td>\n",
       "      <td>0.003906</td>\n",
       "      <td>0.013672</td>\n",
       "      <td>0.033203</td>\n",
       "      <td>0.033203</td>\n",
       "      <td>...</td>\n",
       "      <td>0.050781</td>\n",
       "      <td>0.001953</td>\n",
       "      <td>0.021484</td>\n",
       "      <td>0.003906</td>\n",
       "      <td>0.027344</td>\n",
       "      <td>0.023438</td>\n",
       "      <td>0.062500</td>\n",
       "      <td>0.000000</td>\n",
       "      <td>0.038086</td>\n",
       "      <td>0.000000</td>\n",
       "      <td>0.019531</td>\n",
       "      <td>0.0</td>\n",
       "      <td>0.001953</td>\n",
       "      <td>0.003906</td>\n",
       "      <td>0.015625</td>\n",
       "      <td>0.004883</td>\n",
       "      <td>0.104490</td>\n",
       "      <td>0.000000</td>\n",
       "      <td>0.061523</td>\n",
       "      <td>0.007812</td>\n",
       "      <td>0.008789</td>\n",
       "      <td>0.013672</td>\n",
       "      <td>0.011719</td>\n",
       "      <td>0.001953</td>\n",
       "      <td>0.035156</td>\n",
       "      <td>0.007812</td>\n",
       "      <td>0.000000</td>\n",
       "      <td>0.0</td>\n",
       "      <td>0.053711</td>\n",
       "      <td>0.036133</td>\n",
       "      <td>0.000977</td>\n",
       "      <td>0.000000</td>\n",
       "      <td>0.000000</td>\n",
       "      <td>0.000977</td>\n",
       "      <td>0.023438</td>\n",
       "      <td>0.0</td>\n",
       "      <td>0.0</td>\n",
       "      <td>0.000977</td>\n",
       "      <td>0.039062</td>\n",
       "      <td>0.022461</td>\n",
       "    </tr>\n",
       "    <tr>\n",
       "      <th>2</th>\n",
       "      <td>Quercus_Hartwissiana</td>\n",
       "      <td>0.005859</td>\n",
       "      <td>0.009766</td>\n",
       "      <td>0.019531</td>\n",
       "      <td>0.007812</td>\n",
       "      <td>0.003906</td>\n",
       "      <td>0.005859</td>\n",
       "      <td>0.068359</td>\n",
       "      <td>0.0</td>\n",
       "      <td>0.000000</td>\n",
       "      <td>0.044922</td>\n",
       "      <td>0.007812</td>\n",
       "      <td>0.011719</td>\n",
       "      <td>0.021484</td>\n",
       "      <td>0.001953</td>\n",
       "      <td>0.025391</td>\n",
       "      <td>0.0</td>\n",
       "      <td>0.009766</td>\n",
       "      <td>0.011719</td>\n",
       "      <td>0.007812</td>\n",
       "      <td>0.005859</td>\n",
       "      <td>0.041016</td>\n",
       "      <td>0.001953</td>\n",
       "      <td>0.0</td>\n",
       "      <td>0.015625</td>\n",
       "      <td>0.000000</td>\n",
       "      <td>0.009766</td>\n",
       "      <td>0.001953</td>\n",
       "      <td>0.009766</td>\n",
       "      <td>0.009766</td>\n",
       "      <td>0.015625</td>\n",
       "      <td>0.005859</td>\n",
       "      <td>0.000000</td>\n",
       "      <td>0.017578</td>\n",
       "      <td>0.007812</td>\n",
       "      <td>0.005859</td>\n",
       "      <td>0.009766</td>\n",
       "      <td>0.019531</td>\n",
       "      <td>0.042969</td>\n",
       "      <td>0.021484</td>\n",
       "      <td>...</td>\n",
       "      <td>0.000977</td>\n",
       "      <td>0.000000</td>\n",
       "      <td>0.000977</td>\n",
       "      <td>0.003906</td>\n",
       "      <td>0.035156</td>\n",
       "      <td>0.015625</td>\n",
       "      <td>0.027344</td>\n",
       "      <td>0.000000</td>\n",
       "      <td>0.000000</td>\n",
       "      <td>0.008789</td>\n",
       "      <td>0.015625</td>\n",
       "      <td>0.0</td>\n",
       "      <td>0.000000</td>\n",
       "      <td>0.011719</td>\n",
       "      <td>0.000977</td>\n",
       "      <td>0.000977</td>\n",
       "      <td>0.000000</td>\n",
       "      <td>0.000000</td>\n",
       "      <td>0.000000</td>\n",
       "      <td>0.005859</td>\n",
       "      <td>0.022461</td>\n",
       "      <td>0.020508</td>\n",
       "      <td>0.021484</td>\n",
       "      <td>0.056641</td>\n",
       "      <td>0.010742</td>\n",
       "      <td>0.008789</td>\n",
       "      <td>0.000000</td>\n",
       "      <td>0.0</td>\n",
       "      <td>0.000977</td>\n",
       "      <td>0.000000</td>\n",
       "      <td>0.154300</td>\n",
       "      <td>0.000000</td>\n",
       "      <td>0.005859</td>\n",
       "      <td>0.000977</td>\n",
       "      <td>0.007812</td>\n",
       "      <td>0.0</td>\n",
       "      <td>0.0</td>\n",
       "      <td>0.000000</td>\n",
       "      <td>0.020508</td>\n",
       "      <td>0.002930</td>\n",
       "    </tr>\n",
       "    <tr>\n",
       "      <th>3</th>\n",
       "      <td>Tilia_Tomentosa</td>\n",
       "      <td>0.000000</td>\n",
       "      <td>0.003906</td>\n",
       "      <td>0.023438</td>\n",
       "      <td>0.005859</td>\n",
       "      <td>0.021484</td>\n",
       "      <td>0.019531</td>\n",
       "      <td>0.023438</td>\n",
       "      <td>0.0</td>\n",
       "      <td>0.013672</td>\n",
       "      <td>0.017578</td>\n",
       "      <td>0.001953</td>\n",
       "      <td>0.019531</td>\n",
       "      <td>0.001953</td>\n",
       "      <td>0.003906</td>\n",
       "      <td>0.035156</td>\n",
       "      <td>0.0</td>\n",
       "      <td>0.005859</td>\n",
       "      <td>0.000000</td>\n",
       "      <td>0.001953</td>\n",
       "      <td>0.003906</td>\n",
       "      <td>0.039062</td>\n",
       "      <td>0.009766</td>\n",
       "      <td>0.0</td>\n",
       "      <td>0.009766</td>\n",
       "      <td>0.005859</td>\n",
       "      <td>0.027344</td>\n",
       "      <td>0.001953</td>\n",
       "      <td>0.017578</td>\n",
       "      <td>0.003906</td>\n",
       "      <td>0.021484</td>\n",
       "      <td>0.027344</td>\n",
       "      <td>0.027344</td>\n",
       "      <td>0.000000</td>\n",
       "      <td>0.003906</td>\n",
       "      <td>0.011719</td>\n",
       "      <td>0.003906</td>\n",
       "      <td>0.005859</td>\n",
       "      <td>0.044922</td>\n",
       "      <td>0.056641</td>\n",
       "      <td>...</td>\n",
       "      <td>0.005859</td>\n",
       "      <td>0.019531</td>\n",
       "      <td>0.124020</td>\n",
       "      <td>0.000000</td>\n",
       "      <td>0.017578</td>\n",
       "      <td>0.000977</td>\n",
       "      <td>0.016602</td>\n",
       "      <td>0.009766</td>\n",
       "      <td>0.006836</td>\n",
       "      <td>0.000977</td>\n",
       "      <td>0.005859</td>\n",
       "      <td>0.0</td>\n",
       "      <td>0.000977</td>\n",
       "      <td>0.001953</td>\n",
       "      <td>0.096680</td>\n",
       "      <td>0.016602</td>\n",
       "      <td>0.126950</td>\n",
       "      <td>0.000000</td>\n",
       "      <td>0.036133</td>\n",
       "      <td>0.055664</td>\n",
       "      <td>0.000000</td>\n",
       "      <td>0.001953</td>\n",
       "      <td>0.027344</td>\n",
       "      <td>0.000000</td>\n",
       "      <td>0.006836</td>\n",
       "      <td>0.017578</td>\n",
       "      <td>0.004883</td>\n",
       "      <td>0.0</td>\n",
       "      <td>0.006836</td>\n",
       "      <td>0.022461</td>\n",
       "      <td>0.000000</td>\n",
       "      <td>0.000977</td>\n",
       "      <td>0.000000</td>\n",
       "      <td>0.000000</td>\n",
       "      <td>0.020508</td>\n",
       "      <td>0.0</td>\n",
       "      <td>0.0</td>\n",
       "      <td>0.017578</td>\n",
       "      <td>0.000000</td>\n",
       "      <td>0.047852</td>\n",
       "    </tr>\n",
       "    <tr>\n",
       "      <th>4</th>\n",
       "      <td>Quercus_Variabilis</td>\n",
       "      <td>0.005859</td>\n",
       "      <td>0.003906</td>\n",
       "      <td>0.048828</td>\n",
       "      <td>0.009766</td>\n",
       "      <td>0.013672</td>\n",
       "      <td>0.015625</td>\n",
       "      <td>0.005859</td>\n",
       "      <td>0.0</td>\n",
       "      <td>0.000000</td>\n",
       "      <td>0.005859</td>\n",
       "      <td>0.001953</td>\n",
       "      <td>0.044922</td>\n",
       "      <td>0.041016</td>\n",
       "      <td>0.011719</td>\n",
       "      <td>0.041016</td>\n",
       "      <td>0.0</td>\n",
       "      <td>0.009766</td>\n",
       "      <td>0.015625</td>\n",
       "      <td>0.011719</td>\n",
       "      <td>0.007812</td>\n",
       "      <td>0.021484</td>\n",
       "      <td>0.000000</td>\n",
       "      <td>0.0</td>\n",
       "      <td>0.000000</td>\n",
       "      <td>0.015625</td>\n",
       "      <td>0.009766</td>\n",
       "      <td>0.001953</td>\n",
       "      <td>0.017578</td>\n",
       "      <td>0.041016</td>\n",
       "      <td>0.005859</td>\n",
       "      <td>0.021484</td>\n",
       "      <td>0.013672</td>\n",
       "      <td>0.017578</td>\n",
       "      <td>0.000000</td>\n",
       "      <td>0.005859</td>\n",
       "      <td>0.009766</td>\n",
       "      <td>0.027344</td>\n",
       "      <td>0.083984</td>\n",
       "      <td>0.027344</td>\n",
       "      <td>...</td>\n",
       "      <td>0.000000</td>\n",
       "      <td>0.000000</td>\n",
       "      <td>0.040039</td>\n",
       "      <td>0.005859</td>\n",
       "      <td>0.005859</td>\n",
       "      <td>0.000000</td>\n",
       "      <td>0.003906</td>\n",
       "      <td>0.000000</td>\n",
       "      <td>0.000000</td>\n",
       "      <td>0.110350</td>\n",
       "      <td>0.000000</td>\n",
       "      <td>0.0</td>\n",
       "      <td>0.000000</td>\n",
       "      <td>0.087891</td>\n",
       "      <td>0.023438</td>\n",
       "      <td>0.007812</td>\n",
       "      <td>0.000000</td>\n",
       "      <td>0.000000</td>\n",
       "      <td>0.008789</td>\n",
       "      <td>0.017578</td>\n",
       "      <td>0.021484</td>\n",
       "      <td>0.061523</td>\n",
       "      <td>0.026367</td>\n",
       "      <td>0.132810</td>\n",
       "      <td>0.000000</td>\n",
       "      <td>0.000000</td>\n",
       "      <td>0.000000</td>\n",
       "      <td>0.0</td>\n",
       "      <td>0.000000</td>\n",
       "      <td>0.001953</td>\n",
       "      <td>0.096680</td>\n",
       "      <td>0.000000</td>\n",
       "      <td>0.021484</td>\n",
       "      <td>0.000000</td>\n",
       "      <td>0.000000</td>\n",
       "      <td>0.0</td>\n",
       "      <td>0.0</td>\n",
       "      <td>0.000000</td>\n",
       "      <td>0.000000</td>\n",
       "      <td>0.031250</td>\n",
       "    </tr>\n",
       "  </tbody>\n",
       "</table>\n",
       "<p>5 rows × 193 columns</p>\n",
       "</div>"
      ],
      "text/plain": [
       "                 species   margin1   margin2  ...  texture62  texture63  texture64\n",
       "0            Acer_Opalus  0.007812  0.023438  ...   0.004883   0.000000   0.025391\n",
       "1  Pterocarya_Stenoptera  0.005859  0.000000  ...   0.000977   0.039062   0.022461\n",
       "2   Quercus_Hartwissiana  0.005859  0.009766  ...   0.000000   0.020508   0.002930\n",
       "3        Tilia_Tomentosa  0.000000  0.003906  ...   0.017578   0.000000   0.047852\n",
       "4     Quercus_Variabilis  0.005859  0.003906  ...   0.000000   0.000000   0.031250\n",
       "\n",
       "[5 rows x 193 columns]"
      ]
     },
     "execution_count": 15,
     "metadata": {},
     "output_type": "execute_result"
    }
   ],
   "source": [
    "data.head()"
   ]
  },
  {
   "cell_type": "code",
   "execution_count": 16,
   "metadata": {
    "colab": {
     "base_uri": "https://localhost:8080/"
    },
    "id": "As4Of8hI1P_i",
    "outputId": "91b436cd-92c6-4efc-f2dc-25a2f5aed848"
   },
   "outputs": [
    {
     "name": "stdout",
     "output_type": "stream",
     "text": [
      "(990,)\n"
     ]
    }
   ],
   "source": [
    "## Since the labels are textual, so we encode them categorically\n",
    "\n",
    "y = data.pop('species')\n",
    "y = LabelEncoder().fit(y).transform(y)\n",
    "print(y.shape)"
   ]
  },
  {
   "cell_type": "code",
   "execution_count": 17,
   "metadata": {
    "colab": {
     "base_uri": "https://localhost:8080/"
    },
    "id": "-cUvRtD11QCM",
    "outputId": "e917102c-4cc1-489f-b567-71e5c333dd0d"
   },
   "outputs": [
    {
     "name": "stdout",
     "output_type": "stream",
     "text": [
      "(990, 192)\n"
     ]
    }
   ],
   "source": [
    "## Standardising the data \n",
    "\n",
    "X = StandardScaler().fit(data).transform(data)\n",
    "print(X.shape)"
   ]
  },
  {
   "cell_type": "code",
   "execution_count": 18,
   "metadata": {
    "colab": {
     "base_uri": "https://localhost:8080/"
    },
    "id": "vQG1z_ji4aw0",
    "outputId": "f8c793bf-51b6-4090-aea5-8563f69e47cc"
   },
   "outputs": [
    {
     "name": "stdout",
     "output_type": "stream",
     "text": [
      "(990, 99)\n"
     ]
    }
   ],
   "source": [
    "#one hot encoding\n",
    "y_cat = to_categorical(y)\n",
    "print(y_cat.shape)"
   ]
  },
  {
   "cell_type": "code",
   "execution_count": 32,
   "metadata": {
    "id": "U2D1Le2i4az_"
   },
   "outputs": [],
   "source": [
    "#model \n",
    "model = Sequential()\n",
    "model.add(Dense(512,input_dim=192, activation='relu'))\n",
    "model.add(Dropout(0.3))\n",
    "model.add(Dense(256, activation='sigmoid'))\n",
    "model.add(Dropout(0.3))\n",
    "model.add(Dense(99, activation='softmax'))"
   ]
  },
  {
   "cell_type": "code",
   "execution_count": 33,
   "metadata": {
    "colab": {
     "base_uri": "https://localhost:8080/"
    },
    "id": "_OZbmo-X4a8p",
    "outputId": "7835e692-954c-446d-c34f-6d389392c25c"
   },
   "outputs": [
    {
     "name": "stdout",
     "output_type": "stream",
     "text": [
      "Model: \"sequential_2\"\n",
      "_________________________________________________________________\n",
      "Layer (type)                 Output Shape              Param #   \n",
      "=================================================================\n",
      "dense_4 (Dense)              (None, 512)               98816     \n",
      "_________________________________________________________________\n",
      "dropout (Dropout)            (None, 512)               0         \n",
      "_________________________________________________________________\n",
      "dense_5 (Dense)              (None, 256)               131328    \n",
      "_________________________________________________________________\n",
      "dropout_1 (Dropout)          (None, 256)               0         \n",
      "_________________________________________________________________\n",
      "dense_6 (Dense)              (None, 99)                25443     \n",
      "=================================================================\n",
      "Total params: 255,587\n",
      "Trainable params: 255,587\n",
      "Non-trainable params: 0\n",
      "_________________________________________________________________\n"
     ]
    }
   ],
   "source": [
    "model.summary()"
   ]
  },
  {
   "cell_type": "code",
   "execution_count": 34,
   "metadata": {
    "colab": {
     "base_uri": "https://localhost:8080/",
     "height": 644
    },
    "id": "C8nAcOH04a_Y",
    "outputId": "0e9d2d6e-80e1-4625-e9fc-c5d5493ca7a4"
   },
   "outputs": [
    {
     "data": {
      "image/png": "[encoded data removed]",
      "text/plain": [
       "<IPython.core.display.Image object>"
      ]
     },
     "execution_count": 34,
     "metadata": {},
     "output_type": "execute_result"
    }
   ],
   "source": [
    "from keras.utils.vis_utils import plot_model\n",
    "plot_model(model, to_file='model_chart.png', show_shapes=True, show_layer_names=True)\n",
    "from IPython.display import Image\n",
    "Image(\"model_chart.png\")"
   ]
  },
  {
   "cell_type": "code",
   "execution_count": 35,
   "metadata": {
    "id": "W3Mu2nfL4bCf"
   },
   "outputs": [],
   "source": [
    "\n",
    "model.compile(optimizer = 'rmsprop',\n",
    "               loss = 'categorical_crossentropy',\n",
    "               metrics = ['accuracy'])"
   ]
  },
  {
   "cell_type": "code",
   "execution_count": 36,
   "metadata": {
    "id": "2sI5tETO5kf3"
   },
   "outputs": [],
   "source": [
    "## Fitting the model on the whole training data\n",
    "history = model.fit(X,y_cat,batch_size=192,\n",
    "                    epochs=30,verbose=0, validation_split=0.1)\n",
    "\n"
   ]
  },
  {
   "cell_type": "code",
   "execution_count": 41,
   "metadata": {
    "id": "JMUC5GTB1Pug"
   },
   "outputs": [],
   "source": [
    "test = pd.read_csv('/content/test.csv(1).zip')"
   ]
  },
  {
   "cell_type": "code",
   "execution_count": 42,
   "metadata": {
    "id": "U0wCgaN38DeF"
   },
   "outputs": [],
   "source": [
    "index = test.pop('id')\n",
    "test = StandardScaler().fit(test).transform(test)\n"
   ]
  },
  {
   "cell_type": "code",
   "execution_count": 44,
   "metadata": {
    "id": "I3M8JQZZ8DQJ"
   },
   "outputs": [],
   "source": [
    "yPred = model.predict(test)"
   ]
  },
  {
   "cell_type": "code",
   "execution_count": 48,
   "metadata": {
    "colab": {
     "base_uri": "https://localhost:8080/"
    },
    "id": "cVaDk76T_qtF",
    "outputId": "1250c501-e83c-459f-afa8-a66977df97d4"
   },
   "outputs": [
    {
     "data": {
      "text/plain": [
       "array([51, 50,  1, 19, 14,  3,  3, 28, 84,  8, 43, 74, 75, 10, 52, 46, 45,\n",
       "       73, 13, 71, 61, 68, 57, 77,  1, 70, 28, 15, 35, 70, 53, 74, 47, 50,\n",
       "        4, 36, 14, 55, 36, 93,  8, 32,  8,  9, 71, 70, 38, 23, 94, 18, 17,\n",
       "        5, 55, 94, 14, 86, 62, 33, 51, 98, 88, 56, 21, 59, 65, 11, 48,  5,\n",
       "       13,  4, 54, 57, 29,  7, 31, 98, 92, 84, 25, 10, 61, 43, 85, 24,  1,\n",
       "        2, 23, 83, 40, 22, 48, 90, 25, 21, 37, 56, 41, 95,  7, 89, 98, 77,\n",
       "        3, 12, 31, 84, 53, 96, 64, 72, 93, 93, 67, 30,  8, 88, 60, 87,  6,\n",
       "       57, 34, 90, 60, 17, 75, 27, 51, 31, 39, 23, 29,  2, 41, 61, 24, 97,\n",
       "       29, 28, 68, 81, 42, 51, 86, 62, 60, 52, 95, 64, 42, 96, 95, 20, 59,\n",
       "       35, 86,  1, 26, 38, 43, 75, 20, 60, 46, 79, 22, 79, 55, 87, 65, 97,\n",
       "       75, 21, 29, 21, 11, 10, 58, 94, 27, 22, 15, 45, 89, 54, 43,  5, 23,\n",
       "       94, 40, 49, 89, 72, 36, 11, 81, 95, 18, 91, 29, 64, 80,  6, 78, 45,\n",
       "       28,  9, 78, 90, 44, 89, 92, 13,  2, 59,  0, 96, 70, 32, 29, 78, 91,\n",
       "       55, 44, 38,  5, 60, 49, 58, 94, 67, 92, 88, 90, 79, 25, 37, 18,  0,\n",
       "       76, 27, 70, 71, 44, 70, 32, 90, 30, 82, 34, 30, 82, 96, 48, 65, 57,\n",
       "       64, 26, 53, 55, 73,  9,  3, 83, 26, 30, 63, 17, 22, 79, 63, 12, 78,\n",
       "       36, 14, 27, 25, 67, 38, 20, 54, 76, 69, 67, 97, 80, 44, 92, 69, 23,\n",
       "       21, 16, 51, 33, 77, 16, 11, 97,  1, 52, 39, 24, 52, 42, 17,  2, 73,\n",
       "       96, 83, 88,  9, 63, 50, 16, 38, 87, 95,  3, 35, 83, 60, 59, 58,  0,\n",
       "       50, 62, 38, 93, 68, 53, 46, 19, 46, 94, 18,  0, 33, 89, 40, 62, 48,\n",
       "       42,  6, 31, 91, 73, 81, 12, 85, 47,  6, 79,  2, 22, 35, 43,  6, 80,\n",
       "       78, 82,  5, 61, 37, 43, 33, 69, 56, 71, 45, 59, 42, 66, 86, 98, 83,\n",
       "       90, 64, 82, 11, 79, 56, 76, 49, 48, 20, 74, 15, 33, 49, 89, 44,  7,\n",
       "       35, 13, 55, 23, 34, 44, 32, 30, 36,  9, 72, 31, 61, 50, 82, 34, 29,\n",
       "       22, 92, 72, 11, 19,  4, 87, 51, 71, 39, 84, 32, 66, 36, 41, 31, 80,\n",
       "        4, 26, 68, 96, 20, 40, 34, 39, 56, 73, 76, 84,  7, 67, 37,  8, 95,\n",
       "       85, 62, 10, 65, 41,  2, 17, 86, 41, 52,  3, 49, 47, 76, 52, 16, 26,\n",
       "       88, 63, 45, 39, 66, 87, 75, 74,  7, 64, 65, 78, 63, 56, 21, 61, 88,\n",
       "       62, 91, 59, 12, 74, 15, 85,  8, 66, 57, 83, 82, 72, 58, 28, 17, 67,\n",
       "       66, 57, 66, 75, 35, 18,  9, 54, 91, 65, 19, 15, 10, 24, 71, 69, 48,\n",
       "       39, 98, 16, 19, 45, 74,  6, 81, 42, 34, 80, 47, 85, 28, 85, 47, 25,\n",
       "       27, 58, 68, 84, 97, 63, 97, 76, 81, 87, 77, 13,  0, 28, 41, 14, 12,\n",
       "       33, 86, 46,  4,  4, 47, 30, 19, 58, 13, 77, 98,  5, 49, 72, 53, 32,\n",
       "       77, 40, 68, 26, 92, 16, 81, 37, 14, 93, 80, 53, 46, 25, 50,  7, 37,\n",
       "       93,  0, 20, 54, 10, 91, 40, 81, 53, 18, 27,  1, 12, 54, 73, 15])"
      ]
     },
     "execution_count": 48,
     "metadata": {},
     "output_type": "execute_result"
    }
   ],
   "source": [
    "predict_classes=np.argmax(yPred,axis=1)\n",
    "\n",
    "predict_classes"
   ]
  }
 ],
 "metadata": {
  "colab": {
   "name": "Leaf_Classification .ipynb",
   "provenance": []
  },
  "kernelspec": {
   "display_name": "Python 3",
   "language": "python",
   "name": "python3"
  },
  "language_info": {
   "codemirror_mode": {
    "name": "ipython",
    "version": 3
   },
   "file_extension": ".py",
   "mimetype": "text/x-python",
   "name": "python",
   "nbconvert_exporter": "python",
   "pygments_lexer": "ipython3",
   "version": "3.8.3"
  }
 },
 "nbformat": 4,
 "nbformat_minor": 1
}
